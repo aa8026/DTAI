{
 "cells": [
  {
   "cell_type": "code",
   "execution_count": 1,
   "metadata": {},
   "outputs": [
    {
     "name": "stdout",
     "output_type": "stream",
     "text": [
      "0821\n"
     ]
    }
   ],
   "source": [
    "print(\"0821\")"
   ]
  },
  {
   "cell_type": "code",
   "execution_count": 2,
   "metadata": {},
   "outputs": [
    {
     "name": "stdout",
     "output_type": "stream",
     "text": [
      "65 is D\n"
     ]
    }
   ],
   "source": [
    "#26\n",
    "a=int(input())\n",
    "if a>100:\n",
    "    print(a,\"is error\")\n",
    "elif a>=90 and a<=99:\n",
    "    print(a,\"is A\")\n",
    "elif a>=80 and a<=89:\n",
    "    print(a,\"is B\")\n",
    "elif a>=70 and a<=79:\n",
    "    print(a,\"is C\")\n",
    "elif a>=60 and a<=69:\n",
    "    print(a,\"is D\")\n",
    "elif a>=0 and a<=59:\n",
    "    print(a,\"is E\")\n",
    "else:\n",
    "    print(a,\"is error\")"
   ]
  },
  {
   "cell_type": "code",
   "execution_count": 4,
   "metadata": {},
   "outputs": [
    {
     "name": "stdout",
     "output_type": "stream",
     "text": [
      "1 is winter\n"
     ]
    }
   ],
   "source": [
    "#27\n",
    "a=int(input())\n",
    "if a>13:\n",
    "    print(\"input error\")\n",
    "elif a>=3 and a<=5:\n",
    "    print(a,\"is spring\")\n",
    "elif a>=6 and a<=8:\n",
    "    print(a,\"is summer\")\n",
    "elif a>=9 and a<=11:\n",
    "    print(a,\"is autumn\")\n",
    "elif a==12 or a==1 or a==2:\n",
    "    print(a,\"is winter\")\n",
    "elif a<1:\n",
    "    print(\"input error\")"
   ]
  },
  {
   "cell_type": "code",
   "execution_count": 11,
   "metadata": {},
   "outputs": [
    {
     "name": "stdout",
     "output_type": "stream",
     "text": [
      "Invalid\n"
     ]
    }
   ],
   "source": [
    "#33\n",
    "a,b,c=map(int,input().split())\n",
    "if a>0 and b>0 and c>0:\n",
    "    if a==b or a==c or b==c:\n",
    "        print(\"Invalid\")\n",
    "    else:\n",
    "        print(\"Valid\")"
   ]
  },
  {
   "cell_type": "code",
   "execution_count": 15,
   "metadata": {},
   "outputs": [
    {
     "name": "stdout",
     "output_type": "stream",
     "text": [
      "5\n"
     ]
    }
   ],
   "source": [
    "#23\n",
    "a=input()\n",
    "print(len(a))"
   ]
  },
  {
   "cell_type": "code",
   "execution_count": null,
   "metadata": {},
   "outputs": [],
   "source": [
    "#5\n"
   ]
  },
  {
   "cell_type": "code",
   "execution_count": 16,
   "metadata": {},
   "outputs": [
    {
     "name": "stdout",
     "output_type": "stream",
     "text": [
      "2097 is common year\n"
     ]
    }
   ],
   "source": [
    "#18\n",
    "year=int(input())\n",
    "if year%4==0:\n",
    "    if year%100==0:\n",
    "        if year%400==0:\n",
    "            print(f'{year} is leap year')\n",
    "        else:\n",
    "            print(f'{year} is common year')\n",
    "    else:\n",
    "        print(f'{year} is leap year')\n",
    "else:\n",
    "    print(f'{year} is common year')"
   ]
  },
  {
   "cell_type": "code",
   "execution_count": 17,
   "metadata": {},
   "outputs": [
    {
     "name": "stdout",
     "output_type": "stream",
     "text": [
      "9*1=9 9*2=18 9*3=27 9*4=36 9*5=45 9*6=54 9*7=63 9*8=72 9*9=81 \n"
     ]
    }
   ],
   "source": [
    "#19\n",
    "n=int(input())\n",
    "for i in range(n,10):\n",
    "    for j in range(1,10):\n",
    "        print(\"%d*%d=%d\" %(i,j,i*j),end=\" \")\n",
    "    print()"
   ]
  },
  {
   "cell_type": "code",
   "execution_count": 18,
   "metadata": {},
   "outputs": [
    {
     "ename": "ValueError",
     "evalue": "could not convert string to float: '2 5 4.8'",
     "output_type": "error",
     "traceback": [
      "\u001b[1;31m---------------------------------------------------------------------------\u001b[0m",
      "\u001b[1;31mValueError\u001b[0m                                Traceback (most recent call last)",
      "Cell \u001b[1;32mIn[18], line 2\u001b[0m\n\u001b[0;32m      1\u001b[0m \u001b[38;5;66;03m#40\u001b[39;00m\n\u001b[1;32m----> 2\u001b[0m a\u001b[38;5;241m=\u001b[39m\u001b[38;5;28;43mfloat\u001b[39;49m\u001b[43m(\u001b[49m\u001b[38;5;28;43minput\u001b[39;49m\u001b[43m(\u001b[49m\u001b[43m)\u001b[49m\u001b[43m)\u001b[49m\n\u001b[0;32m      3\u001b[0m b\u001b[38;5;241m=\u001b[39m\u001b[38;5;28mfloat\u001b[39m(\u001b[38;5;28minput\u001b[39m())\n\u001b[0;32m      4\u001b[0m c\u001b[38;5;241m=\u001b[39m\u001b[38;5;28mfloat\u001b[39m(\u001b[38;5;28minput\u001b[39m())\n",
      "\u001b[1;31mValueError\u001b[0m: could not convert string to float: '2 5 4.8'"
     ]
    }
   ],
   "source": [
    "#40\n",
    "a=float(input())\n",
    "b=float(input())\n",
    "c=float(input())\n",
    "area=(a+b)*c/2\n",
    "print(\"t=%s b=%s h=%s area=%s\" %(a,b,c,area))"
   ]
  },
  {
   "cell_type": "code",
   "execution_count": 28,
   "metadata": {},
   "outputs": [
    {
     "name": "stdout",
     "output_type": "stream",
     "text": [
      "10\n"
     ]
    }
   ],
   "source": [
    "#5\n",
    "a,b,c=map(int,input().split())\n",
    "min=a\n",
    "if(b<=a):\n",
    "    min=b\n",
    "if(c<=min):\n",
    "    min=c\n",
    "print(min)"
   ]
  },
  {
   "cell_type": "code",
   "execution_count": 29,
   "metadata": {},
   "outputs": [
    {
     "name": "stdout",
     "output_type": "stream",
     "text": [
      "16\n"
     ]
    }
   ],
   "source": [
    "#8\n",
    "n=int(input())\n",
    "sum=0\n",
    "for i in range(1,n+1):\n",
    "    if i%3==0 or i%7==0:\n",
    "        sum+=i\n",
    "print(sum)"
   ]
  },
  {
   "cell_type": "code",
   "execution_count": 4,
   "metadata": {},
   "outputs": [
    {
     "name": "stdout",
     "output_type": "stream",
     "text": [
      "*\n",
      "**\n",
      "***\n"
     ]
    }
   ],
   "source": [
    "#9\n",
    "n = int(input())\n",
    "for i in range(1, n+1):\n",
    "    for j in range(1, i+1):\n",
    "        print(\"*\", end =\"\")\n",
    "    print()"
   ]
  },
  {
   "cell_type": "code",
   "execution_count": 3,
   "metadata": {},
   "outputs": [
    {
     "name": "stdout",
     "output_type": "stream",
     "text": [
      "1\n",
      "12\n",
      "123\n"
     ]
    }
   ],
   "source": [
    "#10\n",
    "n = int(input())\n",
    "for i in range(1, n+1):\n",
    "    for j in range(1, i+1):\n",
    "        print(j, end =\"\")\n",
    "    print()"
   ]
  },
  {
   "cell_type": "code",
   "execution_count": 10,
   "metadata": {},
   "outputs": [
    {
     "name": "stdout",
     "output_type": "stream",
     "text": [
      "Valid\n"
     ]
    }
   ],
   "source": [
    "#14構成三角形\n",
    "a,b,c=map(int,input().split())\n",
    "if a+b>c and a+c>b and b+c>a:\n",
    "    print(\"Valid\")\n",
    "else:\n",
    "    print(\"Invalid\")"
   ]
  },
  {
   "cell_type": "code",
   "execution_count": 19,
   "metadata": {},
   "outputs": [
    {
     "name": "stdout",
     "output_type": "stream",
     "text": [
      "2097 is common year\n"
     ]
    }
   ],
   "source": [
    "#18\n",
    "year=int(input())\n",
    "if year%4==0:\n",
    "    if year%100==0:\n",
    "        if year%400==0:\n",
    "            print(f'{year} is leap year')\n",
    "        else:\n",
    "            print(f'{year} is common year')\n",
    "    else:\n",
    "        print(f'{year} is leap year')\n",
    "else:\n",
    "    print(f'{year} is common year')"
   ]
  },
  {
   "cell_type": "code",
   "execution_count": 21,
   "metadata": {},
   "outputs": [
    {
     "name": "stdout",
     "output_type": "stream",
     "text": [
      "9*1=9 9*2=18 9*3=27 9*4=36 9*5=45 9*6=54 9*7=63 9*8=72 9*9=81 \n"
     ]
    }
   ],
   "source": [
    "#19\n",
    "n=int(input())\n",
    "for i in range(n,10):\n",
    "    for j in range(1,10):\n",
    "        print(\"%d*%d=%d\" %(i,j,i*j),end=\" \")\n",
    "    print()"
   ]
  },
  {
   "cell_type": "code",
   "execution_count": 22,
   "metadata": {},
   "outputs": [
    {
     "name": "stdout",
     "output_type": "stream",
     "text": [
      "Ans Hello World\n"
     ]
    }
   ],
   "source": [
    "#21\n",
    "a=input()\n",
    "print(\"Ans\",a)"
   ]
  },
  {
   "cell_type": "code",
   "execution_count": 5,
   "metadata": {},
   "outputs": [
    {
     "name": "stdout",
     "output_type": "stream",
     "text": [
      "21\n"
     ]
    }
   ],
   "source": [
    "#22\n",
    "a,b,c,d,e,f,g,h,i=map(int,input().split())\n",
    "print(a+b+c+d+e+f+g+h+i)"
   ]
  },
  {
   "cell_type": "code",
   "execution_count": 6,
   "metadata": {},
   "outputs": [
    {
     "name": "stdout",
     "output_type": "stream",
     "text": [
      "11\n"
     ]
    }
   ],
   "source": [
    "#23\n",
    "a=input()\n",
    "print(len(a))"
   ]
  },
  {
   "cell_type": "code",
   "execution_count": 27,
   "metadata": {},
   "outputs": [
    {
     "name": "stdout",
     "output_type": "stream",
     "text": [
      "85 is B\n"
     ]
    }
   ],
   "source": [
    "#26\n",
    "a=int(input())\n",
    "if a>100:\n",
    "    print(a,\"is error\")\n",
    "elif a>=90 and a<=99:\n",
    "    print(a,\"is A\")\n",
    "elif a>=80 and a<=89:\n",
    "    print(a,\"is B\")\n",
    "elif a>=70 and a<=79:\n",
    "    print(a,\"is C\")\n",
    "elif a>=60 and a<=69:\n",
    "    print(a,\"is D\")\n",
    "elif a>=0 and a<=59:\n",
    "    print(a,\"is E\")\n",
    "elif a<0:\n",
    "    print(a,\"is error\")"
   ]
  },
  {
   "cell_type": "code",
   "execution_count": 36,
   "metadata": {},
   "outputs": [
    {
     "name": "stdout",
     "output_type": "stream",
     "text": [
      "85% discount is 84999.15\n"
     ]
    }
   ],
   "source": [
    "#29\n",
    "a=int(input())\n",
    "if a>=100000:\n",
    "    print(\"80% \"\"discount is\",a*0.8)\n",
    "if a>=50000 and a<100000:\n",
    "    print(\"85% \"\"discount is\",a*0.85)\n",
    "if a>=30000 and a<50000:\n",
    "    print(\"90% \"\"discount is\",a*0.9)\n",
    "if a>=10000 and a<30000:\n",
    "    print(\"95% \"\"discount is\",a*0.95)\n",
    "elif a<10000:\n",
    "    print(\"no discount is\",a)"
   ]
  },
  {
   "cell_type": "code",
   "execution_count": null,
   "metadata": {},
   "outputs": [],
   "source": [
    "#30\n",
    "a,b,c=map(int,input().split())\n",
    "for i in range(a,b,c):\n",
    "    print(i,end=\",\")"
   ]
  },
  {
   "cell_type": "code",
   "execution_count": null,
   "metadata": {},
   "outputs": [],
   "source": [
    "#32\n",
    "a,b,c=map(int,input().split())\n",
    "n=range(a,b,c)\n",
    "print(list(n))"
   ]
  },
  {
   "cell_type": "code",
   "execution_count": 9,
   "metadata": {},
   "outputs": [
    {
     "name": "stdout",
     "output_type": "stream",
     "text": [
      "Invalid\n"
     ]
    }
   ],
   "source": [
    "#33等腰三角形\n",
    "a,b,c=map(int,input().split())\n",
    "if a==b or a==c or b==c:\n",
    "    print(\"Valid\")\n",
    "else:\n",
    "    print(\"Invalid\")"
   ]
  },
  {
   "cell_type": "code",
   "execution_count": 25,
   "metadata": {},
   "outputs": [
    {
     "name": "stdout",
     "output_type": "stream",
     "text": [
      "park time:11h:9m\n",
      "pay:300 money\n"
     ]
    }
   ],
   "source": [
    "#34\n",
    "min=int(input())\n",
    "hour=min//60\n",
    "n=min%60\n",
    "if min<60:\n",
    "    print(\"park time:%sh:%sm\"%(hour,n))\n",
    "    print(\"pay:%s money\"%20)\n",
    "elif min>=480:\n",
    "    print(\"park time:%sh:%sm\"%(hour,n))\n",
    "    print(\"pay:%s money\"%300)\n",
    "elif min%60==0:\n",
    "    print(\"park time:%sh:%sm\"%(hour,n))\n",
    "    print(\"pay:%s money\"%(hour*40))\n",
    "else:\n",
    "    print(\"park time:%sh:%sm\"%(hour,n))\n",
    "    print(\"pay:%s money\"%(hour*40+20))\n"
   ]
  },
  {
   "cell_type": "code",
   "execution_count": 27,
   "metadata": {},
   "outputs": [
    {
     "name": "stdout",
     "output_type": "stream",
     "text": [
      "370,371,407,"
     ]
    }
   ],
   "source": [
    "#35\n",
    "a,b=map(int,input().split())\n",
    "for n in range(a,b):\n",
    "    if 100<=n<= 999:\n",
    "        hundreds=n//100\n",
    "        tens=(n//10)%10\n",
    "        units=n%10\n",
    "        if hundreds**3 + tens**3 + units**3==n:\n",
    "            print(n,end=\",\")\n"
   ]
  },
  {
   "cell_type": "code",
   "execution_count": null,
   "metadata": {},
   "outputs": [],
   "source": [
    "#40\n",
    "a=float(input())\n",
    "b=float(input())\n",
    "c=float(input())\n",
    "area=(a+b)*c/2\n",
    "print(\"t=%s b=%s h=%s area=%s\" %(a,b,c,area))"
   ]
  },
  {
   "cell_type": "code",
   "execution_count": 26,
   "metadata": {},
   "outputs": [
    {
     "name": "stdout",
     "output_type": "stream",
     "text": [
      "2.5\n"
     ]
    }
   ],
   "source": [
    "#41\n",
    "a=float(input())\n",
    "b=float(input())\n",
    "c=a%b\n",
    "print(c)"
   ]
  },
  {
   "cell_type": "code",
   "execution_count": 37,
   "metadata": {},
   "outputs": [
    {
     "name": "stdout",
     "output_type": "stream",
     "text": [
      "13.333333333333334\n"
     ]
    }
   ],
   "source": [
    "#43\n",
    "a=float(input())\n",
    "b=float(input())\n",
    "c=a/b\n",
    "print(c)"
   ]
  }
 ],
 "metadata": {
  "kernelspec": {
   "display_name": "Python 3",
   "language": "python",
   "name": "python3"
  },
  "language_info": {
   "codemirror_mode": {
    "name": "ipython",
    "version": 3
   },
   "file_extension": ".py",
   "mimetype": "text/x-python",
   "name": "python",
   "nbconvert_exporter": "python",
   "pygments_lexer": "ipython3",
   "version": "3.12.4"
  }
 },
 "nbformat": 4,
 "nbformat_minor": 2
}
