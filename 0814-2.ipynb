{
 "cells": [
  {
   "cell_type": "code",
   "execution_count": 4,
   "metadata": {},
   "outputs": [
    {
     "name": "stdout",
     "output_type": "stream",
     "text": [
      "25\n"
     ]
    }
   ],
   "source": [
    "asum=0\n",
    "for a in range(1, 1000):\n",
    "    for b in range(1, 1000):\n",
    "        if(a**2+b**2)%(a*b+1)==0:\n",
    "            asum+=1\n",
    "print(asum)"
   ]
  },
  {
   "cell_type": "code",
   "execution_count": 2,
   "metadata": {},
   "outputs": [
    {
     "name": "stdout",
     "output_type": "stream",
     "text": [
      "165\n"
     ]
    }
   ],
   "source": [
    "sum=0\n",
    "for i in range(1, 10):\n",
    "    for j in range(1, i+1):\n",
    "        sum+=j\n",
    "print(sum)"
   ]
  },
  {
   "cell_type": "code",
   "execution_count": 5,
   "metadata": {},
   "outputs": [
    {
     "name": "stdout",
     "output_type": "stream",
     "text": [
      "1+2+...+99= 4950\n"
     ]
    }
   ],
   "source": [
    "sum=0\n",
    "num=1\n",
    "while(num<=99):\n",
    "    sum+=num\n",
    "    num+=1\n",
    "print('1+2+...+99=', sum)"
   ]
  },
  {
   "cell_type": "code",
   "execution_count": 6,
   "metadata": {},
   "outputs": [
    {
     "name": "stdout",
     "output_type": "stream",
     "text": [
      "Happy Sunday\n"
     ]
    }
   ],
   "source": [
    "while True:\n",
    "    user_input=input(\"輸入任意鍵顯示 Happy Sunday,輸入 n 退出: \")\n",
    "    if user_input=='n':\n",
    "        break\n",
    "    print(\"Happy Sunday\")"
   ]
  },
  {
   "cell_type": "code",
   "execution_count": null,
   "metadata": {},
   "outputs": [],
   "source": []
  }
 ],
 "metadata": {
  "kernelspec": {
   "display_name": "Python 3",
   "language": "python",
   "name": "python3"
  },
  "language_info": {
   "codemirror_mode": {
    "name": "ipython",
    "version": 3
   },
   "file_extension": ".py",
   "mimetype": "text/x-python",
   "name": "python",
   "nbconvert_exporter": "python",
   "pygments_lexer": "ipython3",
   "version": "3.7.1"
  }
 },
 "nbformat": 4,
 "nbformat_minor": 2
}
