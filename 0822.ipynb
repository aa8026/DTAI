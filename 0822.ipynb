{
 "cells": [
  {
   "cell_type": "code",
   "execution_count": 1,
   "metadata": {},
   "outputs": [
    {
     "name": "stdout",
     "output_type": "stream",
     "text": [
      "2.5\n"
     ]
    }
   ],
   "source": [
    "#1\n",
    "a=float(input())\n",
    "b=float(input())\n",
    "c=a%b\n",
    "print(c)"
   ]
  },
  {
   "cell_type": "code",
   "execution_count": 2,
   "metadata": {},
   "outputs": [
    {
     "name": "stdout",
     "output_type": "stream",
     "text": [
      "370,371,407,"
     ]
    }
   ],
   "source": [
    "#10\n",
    "a,b=map(int,input().split())\n",
    "for n in range(a,b):\n",
    "    if 100<=n<= 999:\n",
    "        hundreds=n//100\n",
    "        tens=(n//10)%10\n",
    "        units=n%10\n",
    "        if hundreds**3 + tens**3 + units**3==n:\n",
    "            print(n,end=\",\")"
   ]
  },
  {
   "cell_type": "code",
   "execution_count": 3,
   "metadata": {},
   "outputs": [
    {
     "name": "stdout",
     "output_type": "stream",
     "text": [
      "t=2.0 b=5.0 h=4.8 area=16.8\n"
     ]
    }
   ],
   "source": [
    "#2\n",
    "a=float(input())\n",
    "b=float(input())\n",
    "c=float(input())\n",
    "area=(a+b)*c/2\n",
    "print(\"t=%s b=%s h=%s area=%s\" %(a,b,c,area))"
   ]
  },
  {
   "cell_type": "code",
   "execution_count": 4,
   "metadata": {},
   "outputs": [
    {
     "name": "stdout",
     "output_type": "stream",
     "text": [
      "park time:7h:49m\n",
      "pay:300 money\n"
     ]
    }
   ],
   "source": [
    "#3\n",
    "min=int(input())\n",
    "hour=min//60\n",
    "n=min%60\n",
    "if min<60:\n",
    "    print(\"park time:%sh:%sm\"%(hour,n))\n",
    "    print(\"pay:%s money\"%20)\n",
    "elif min>=480:\n",
    "    print(\"park time:%sh:%sm\"%(hour,n))\n",
    "    print(\"pay:%s money\"%300)\n",
    "elif min%60==0:\n",
    "    print(\"park time:%sh:%sm\"%(hour,n))\n",
    "    print(\"pay:%s money\"%(hour*40))\n",
    "else:\n",
    "    print(\"park time:%sh:%sm\"%(hour,n))\n",
    "    print(\"pay:%s money\"%(hour*40+20))"
   ]
  },
  {
   "cell_type": "code",
   "execution_count": 5,
   "metadata": {},
   "outputs": [
    {
     "name": "stdout",
     "output_type": "stream",
     "text": [
      "[3, 4, 5, 6, 7]\n"
     ]
    }
   ],
   "source": [
    "#4\n",
    "a,b,c=map(int,input().split())\n",
    "n=range(a,b,c)\n",
    "print(list(n))"
   ]
  },
  {
   "cell_type": "code",
   "execution_count": 6,
   "metadata": {},
   "outputs": [
    {
     "name": "stdout",
     "output_type": "stream",
     "text": [
      "2097 is common year\n"
     ]
    }
   ],
   "source": [
    "#5\n",
    "year=int(input())\n",
    "if year%4==0:\n",
    "    if year%100==0:\n",
    "        if year%400==0:\n",
    "            print(f'{year} is leap year')\n",
    "        else:\n",
    "            print(f'{year} is common year')\n",
    "    else:\n",
    "        print(f'{year} is leap year')\n",
    "else:\n",
    "    print(f'{year} is common year')"
   ]
  },
  {
   "cell_type": "code",
   "execution_count": 7,
   "metadata": {},
   "outputs": [
    {
     "name": "stdout",
     "output_type": "stream",
     "text": [
      "120 is error\n"
     ]
    }
   ],
   "source": [
    "#6\n",
    "a=int(input())\n",
    "if a>100:\n",
    "    print(a,\"is error\")\n",
    "elif a>=90 and a<=99:\n",
    "    print(a,\"is A\")\n",
    "elif a>=80 and a<=89:\n",
    "    print(a,\"is B\")\n",
    "elif a>=70 and a<=79:\n",
    "    print(a,\"is C\")\n",
    "elif a>=60 and a<=69:\n",
    "    print(a,\"is D\")\n",
    "elif a>=0 and a<=59:\n",
    "    print(a,\"is E\")\n",
    "elif a<0:\n",
    "    print(a,\"is error\")"
   ]
  },
  {
   "cell_type": "code",
   "execution_count": 10,
   "metadata": {},
   "outputs": [
    {
     "name": "stdout",
     "output_type": "stream",
     "text": [
      "0,5,10,15,20,25,30,35,40,45,50,55,60,65,70,75,80,85,90,95,"
     ]
    }
   ],
   "source": [
    "#7\n",
    "a,b,c=map(int,input().split())\n",
    "for i in range(a,b,c):\n",
    "    print(i,end=\",\")"
   ]
  },
  {
   "cell_type": "code",
   "execution_count": 8,
   "metadata": {},
   "outputs": [
    {
     "name": "stdout",
     "output_type": "stream",
     "text": [
      "*\n",
      "**\n",
      "***\n",
      "****\n",
      "*****\n"
     ]
    }
   ],
   "source": [
    "#8\n",
    "n = int(input())\n",
    "for i in range(1, n+1):\n",
    "    for j in range(1, i+1):\n",
    "        print(\"*\", end =\"\")\n",
    "    print()"
   ]
  },
  {
   "cell_type": "code",
   "execution_count": 9,
   "metadata": {},
   "outputs": [
    {
     "name": "stdout",
     "output_type": "stream",
     "text": [
      "9*1=9 9*2=18 9*3=27 9*4=36 9*5=45 9*6=54 9*7=63 9*8=72 9*9=81 \n"
     ]
    }
   ],
   "source": [
    "#9\n",
    "n=int(input())\n",
    "for i in range(n,10):\n",
    "    for j in range(1,10):\n",
    "        print(\"%d*%d=%d\" %(i,j,i*j),end=\" \")\n",
    "    print()"
   ]
  }
 ],
 "metadata": {
  "kernelspec": {
   "display_name": "Python 3",
   "language": "python",
   "name": "python3"
  },
  "language_info": {
   "codemirror_mode": {
    "name": "ipython",
    "version": 3
   },
   "file_extension": ".py",
   "mimetype": "text/x-python",
   "name": "python",
   "nbconvert_exporter": "python",
   "pygments_lexer": "ipython3",
   "version": "3.12.4"
  }
 },
 "nbformat": 4,
 "nbformat_minor": 2
}
