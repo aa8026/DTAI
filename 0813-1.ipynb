{
 "cells": [
  {
   "cell_type": "code",
   "execution_count": 1,
   "metadata": {},
   "outputs": [
    {
     "name": "stdout",
     "output_type": "stream",
     "text": [
      "880.0\n"
     ]
    }
   ],
   "source": [
    "總額=int(input(\"請輸入總額\"))\n",
    "if(總額>1000):\n",
    "    total=(總額*0.8)\n",
    "    print(total)\n",
    "elif(500<=總額<=1000):\n",
    "    total=(總額*0.9)\n",
    "    print(total)\n",
    "else:\n",
    "    print(總額)"
   ]
  },
  {
   "cell_type": "code",
   "execution_count": 2,
   "metadata": {},
   "outputs": [
    {
     "name": "stdout",
     "output_type": "stream",
     "text": [
      "油量不足，建議加油\n"
     ]
    }
   ],
   "source": [
    "fuel=int(input(\"請輸入fuel\"))\n",
    "if(fuel<5):\n",
    "    print(\"需要立即加油!\")\n",
    "elif(5<=fuel<=10):\n",
    "    print(\"油量不足，建議加油\")\n",
    "else:\n",
    "    print(\"油量充足\")"
   ]
  },
  {
   "cell_type": "code",
   "execution_count": 3,
   "metadata": {},
   "outputs": [
    {
     "name": "stdout",
     "output_type": "stream",
     "text": [
      "900\n"
     ]
    }
   ],
   "source": [
    "amount= int (input(\"請輸入amount\"))\n",
    "if(amount>10000):\n",
    "    print(amount)\n",
    "elif(5000<=amount<=10000):\n",
    "    print(amount-50)\n",
    "elif(1000<=amount<=4999):\n",
    "    print(amount-100)\n",
    "else:\n",
    "    print(amount-150)"
   ]
  },
  {
   "cell_type": "code",
   "execution_count": null,
   "metadata": {},
   "outputs": [],
   "source": []
  }
 ],
 "metadata": {
  "kernelspec": {
   "display_name": "Python 3",
   "language": "python",
   "name": "python3"
  },
  "language_info": {
   "codemirror_mode": {
    "name": "ipython",
    "version": 3
   },
   "file_extension": ".py",
   "mimetype": "text/x-python",
   "name": "python",
   "nbconvert_exporter": "python",
   "pygments_lexer": "ipython3",
   "version": "3.7.1"
  }
 },
 "nbformat": 4,
 "nbformat_minor": 2
}
