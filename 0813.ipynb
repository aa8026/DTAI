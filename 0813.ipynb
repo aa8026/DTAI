{
 "cells": [
  {
   "cell_type": "code",
   "execution_count": 1,
   "metadata": {},
   "outputs": [
    {
     "name": "stdout",
     "output_type": "stream",
     "text": [
      "0813\n"
     ]
    }
   ],
   "source": [
    "print(\"0813\")"
   ]
  },
  {
   "cell_type": "code",
   "execution_count": 2,
   "metadata": {},
   "outputs": [
    {
     "name": "stdout",
     "output_type": "stream",
     "text": [
      "密碼正確\n"
     ]
    }
   ],
   "source": [
    "密碼=int(input(\"請輸入密碼\"))\n",
    "if 密碼==1234:\n",
    "    print(\"密碼正確\")"
   ]
  },
  {
   "cell_type": "code",
   "execution_count": 7,
   "metadata": {},
   "outputs": [
    {
     "name": "stdout",
     "output_type": "stream",
     "text": [
      "出門記得帶傘!\n"
     ]
    }
   ],
   "source": [
    "rain=input(\"今天會下雨嗎?\")\n",
    "if(rain==\"Y\" or rain==\"y\"):\n",
    "    print(\"出門記得帶傘!\")\n"
   ]
  },
  {
   "cell_type": "code",
   "execution_count": 8,
   "metadata": {},
   "outputs": [
    {
     "name": "stdout",
     "output_type": "stream",
     "text": [
      "密碼錯誤\n"
     ]
    }
   ],
   "source": [
    "密碼=int(input(\"請輸入密碼\"))\n",
    "if 密碼==1234:\n",
    "    print(\"密碼正確\")\n",
    "else:\n",
    "    print(\"密碼錯誤\")"
   ]
  },
  {
   "cell_type": "code",
   "execution_count": 9,
   "metadata": {},
   "outputs": [
    {
     "name": "stdout",
     "output_type": "stream",
     "text": [
      "不用帶傘\n"
     ]
    }
   ],
   "source": [
    "rain=input(\"今天會下雨嗎?\")\n",
    "if(rain==\"Y\" or rain==\"y\"):\n",
    "    print(\"出門記得帶傘!\")\n",
    "else:\n",
    "    print('不用帶傘')"
   ]
  },
  {
   "cell_type": "code",
   "execution_count": 10,
   "metadata": {},
   "outputs": [
    {
     "name": "stdout",
     "output_type": "stream",
     "text": [
      "你輸入的數字是奇數\n"
     ]
    }
   ],
   "source": [
    "偶數判斷=int(input(\"請輸入一個整數\"))\n",
    "if 偶數判斷%2==0:\n",
    "    print(\"你輸入的數字是偶數\")\n",
    "else:\n",
    "    print(\"你輸入的數字是奇數\")\n",
    "\n"
   ]
  },
  {
   "cell_type": "code",
   "execution_count": 22,
   "metadata": {},
   "outputs": [
    {
     "name": "stdout",
     "output_type": "stream",
     "text": [
      "體溫過高!\n"
     ]
    }
   ],
   "source": [
    "體溫=float(input(\"請輸入體溫\"))\n",
    "if(體溫>=37.5):\n",
    "    print(\"體溫過高!\")\n",
    "elif(37<=體溫<=37.4):\n",
    "    print(\"體溫略高!\")\n",
    "elif(34<=體溫<=36.9):\n",
    "    print(\"體溫正常!\")\n",
    "else:\n",
    "    print(\"體溫異常，請重新測量!\")"
   ]
  },
  {
   "cell_type": "code",
   "execution_count": 21,
   "metadata": {},
   "outputs": [
    {
     "name": "stdout",
     "output_type": "stream",
     "text": [
      "A\n"
     ]
    }
   ],
   "source": [
    "成績=int(input(\"請輸入成績\"))\n",
    "if(成績>=90):\n",
    "    print(\"A\")\n",
    "elif(80<=成績<=89):\n",
    "    print(\"B\")\n",
    "elif(70<=成績<=79):\n",
    "    print(\"C\")\n",
    "elif(60<=成績<=69):\n",
    "    print(\"D\")\n",
    "else:\n",
    "    print(\"E\")"
   ]
  },
  {
   "cell_type": "code",
   "execution_count": 4,
   "metadata": {},
   "outputs": [
    {
     "name": "stdout",
     "output_type": "stream",
     "text": [
      "3 月是春天!\n"
     ]
    }
   ],
   "source": [
    "季節=int(input(\"請輸入季節\"))\n",
    "if(季節==3 or 4 or 5):\n",
    "    print(季節,\"月是春天!\")\n",
    "elif(季節==6 or 7 or  8):\n",
    "    print(季節,\"月是夏天!\")\n",
    "elif(季節==9 or 10 or 11):\n",
    "    print(季節,\"月是秋天!\")\n",
    "elif(季節==12 or 1 or 2):\n",
    "    print(季節,\"月是冬天!\")\n",
    "else:\n",
    "    print(\"月份不在範圍內!\")"
   ]
  },
  {
   "cell_type": "code",
   "execution_count": 1,
   "metadata": {},
   "outputs": [
    {
     "name": "stdout",
     "output_type": "stream",
     "text": [
      "880.0\n"
     ]
    }
   ],
   "source": [
    "總額=int(input(\"請輸入總額\"))\n",
    "if(總額>1000):\n",
    "    total=(總額*0.8)\n",
    "    print(total)\n",
    "elif(500<=總額<=1000):\n",
    "    total=(總額*0.9)\n",
    "    print(total)\n",
    "else:\n",
    "    print(總額)"
   ]
  },
  {
   "cell_type": "code",
   "execution_count": 31,
   "metadata": {},
   "outputs": [
    {
     "name": "stdout",
     "output_type": "stream",
     "text": [
      "需要立即加油!\n"
     ]
    }
   ],
   "source": [
    "fuel=int(input(\"請輸入fuel\"))\n",
    "if(fuel<5):\n",
    "    print(\"需要立即加油!\")\n",
    "elif(5<=fuel<=10):\n",
    "    print(\"油量不足，建議加油\")\n",
    "else:\n",
    "    print(\"油量充足\")"
   ]
  },
  {
   "cell_type": "code",
   "execution_count": 2,
   "metadata": {},
   "outputs": [
    {
     "name": "stdout",
     "output_type": "stream",
     "text": [
      "650\n"
     ]
    }
   ],
   "source": [
    "amount= int (input(\"請輸入amount\"))\n",
    "if(amount>10000):\n",
    "    print(amount)\n",
    "elif(5000<=amount<=10000):\n",
    "    print(amount-50)\n",
    "elif(1000<=amount<=4999):\n",
    "    print(amount-100)\n",
    "else:\n",
    "    print(amount-150)"
   ]
  },
  {
   "cell_type": "code",
   "execution_count": null,
   "metadata": {},
   "outputs": [],
   "source": []
  }
 ],
 "metadata": {
  "kernelspec": {
   "display_name": "Python 3",
   "language": "python",
   "name": "python3"
  },
  "language_info": {
   "codemirror_mode": {
    "name": "ipython",
    "version": 3
   },
   "file_extension": ".py",
   "mimetype": "text/x-python",
   "name": "python",
   "nbconvert_exporter": "python",
   "pygments_lexer": "ipython3",
   "version": "3.7.1"
  }
 },
 "nbformat": 4,
 "nbformat_minor": 2
}
